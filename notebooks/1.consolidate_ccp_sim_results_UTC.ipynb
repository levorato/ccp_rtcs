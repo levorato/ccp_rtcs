{
 "cells": [
  {
   "cell_type": "markdown",
   "metadata": {
    "id": "_1YOeEZQJ8Oz"
   },
   "source": [
    "# Process CCP simulation results - UTC Microgrid"
   ]
  },
  {
   "cell_type": "code",
   "execution_count": 1,
   "metadata": {},
   "outputs": [],
   "source": [
    "run_from_collab = False"
   ]
  },
  {
   "cell_type": "code",
   "execution_count": 2,
   "metadata": {
    "id": "uiFzyaU1J8O1"
   },
   "outputs": [],
   "source": [
    "import pandas as pd\n",
    "import numpy as np\n",
    "import os, fnmatch\n",
    "import matplotlib.pyplot as plt\n",
    "import matplotlib.dates as mdates\n",
    "import warnings\n",
    "warnings.filterwarnings('ignore')\n",
    "warnings.filterwarnings('ignore', category=DeprecationWarning)\n",
    "import glob\n",
    "import seaborn as sns\n",
    "import gzip\n",
    "import matplotlib.style as style\n",
    "from matplotlib.path import Path\n",
    "from matplotlib.patches import BoxStyle\n",
    "from sys import platform\n",
    "import pyarrow as pa\n",
    "%matplotlib inline"
   ]
  },
  {
   "cell_type": "code",
   "execution_count": 3,
   "metadata": {
    "colab": {
     "base_uri": "https://localhost:8080/"
    },
    "id": "FmHozxzVLIHh",
    "outputId": "d5fb2872-df06-4068-c59e-fae979f2ed97"
   },
   "outputs": [],
   "source": [
    "# Import custom python file from github repo: https://changhsinlee.com/colab-import-python/\n",
    "if run_from_collab:\n",
    "    !pip install requests\n",
    "    import requests\n",
    "    # Save python as file to colab working directory\n",
    "    # If you are using GitHub, make sure you get the \"Raw\" version of the code\n",
    "    url = 'https://raw.githubusercontent.com/levorato/ccp_rtcs/master/notebooks/rccp_utils.py'\n",
    "    r = requests.get(url)\n",
    "    # make sure your filename is the same as how you want to import \n",
    "    with open('rccp_utils.py', 'w') as f:\n",
    "        f.write(r.text)\n",
    "    # now we can import\n",
    "    from rccp_utils import *\n",
    "else:\n",
    "    from rccp_utils import *"
   ]
  },
  {
   "cell_type": "markdown",
   "metadata": {
    "id": "oIwHAXu8J8O3"
   },
   "source": [
    "## 1. Process result files"
   ]
  },
  {
   "cell_type": "markdown",
   "metadata": {
    "id": "ruSICj7VJ8O4"
   },
   "source": [
    "### 1.1. Setup project folders"
   ]
  },
  {
   "cell_type": "code",
   "execution_count": 4,
   "metadata": {
    "colab": {
     "base_uri": "https://localhost:8080/"
    },
    "id": "0MDp_fJ3M8IQ",
    "outputId": "95035eab-b0c0-4f31-8817-ba72ca6f0011"
   },
   "outputs": [
    {
     "name": "stdout",
     "output_type": "stream",
     "text": [
      "gdrive_folder= ..\n"
     ]
    }
   ],
   "source": [
    "if run_from_collab:\n",
    "    from google.colab import drive\n",
    "    drive.mount('/content/gdrive/')\n",
    "    gdrive_folder = '/content/gdrive/MyDrive'\n",
    "else:\n",
    "    gdrive_folder = '..'\n",
    "print('gdrive_folder=', gdrive_folder)"
   ]
  },
  {
   "cell_type": "code",
   "execution_count": 5,
   "metadata": {
    "colab": {
     "base_uri": "https://localhost:8080/"
    },
    "id": "vBqxT2dMJ8O4",
    "outputId": "3d4bd4a9-f3e7-4050-9fea-8553edb2cad9"
   },
   "outputs": [
    {
     "name": "stdout",
     "output_type": "stream",
     "text": [
      "*** Project folder is ..\n",
      "*** Instances folder is ../instances\n",
      "*** Output folder is ../rccp_experiments\n"
     ]
    }
   ],
   "source": [
    "project_folder = '..'\n",
    "utc_instances_folder = os.path.join(project_folder, \"instances\", \"utc_skew\")\n",
    "toy_instances_folder = os.path.join(project_folder, \"instances\", \"toy\")\n",
    "instances_folder = os.path.join(project_folder, \"instances\")\n",
    "japan_instances_folder = os.path.join(project_folder, \"instances\", \"japan_microgrid\")\n",
    "output_folder = os.path.join(gdrive_folder, \"rccp_experiments\")\n",
    "results_folder = os.path.join(gdrive_folder, \"rccp_results\")\n",
    "print(\"*** Project folder is\", project_folder)\n",
    "print(\"*** Instances folder is\",  instances_folder)\n",
    "print(\"*** Output folder is\", output_folder)"
   ]
  },
  {
   "cell_type": "markdown",
   "metadata": {
    "id": "RmG0lUnoJ8O4"
   },
   "source": [
    "### 1.2. List which experiments to process"
   ]
  },
  {
   "cell_type": "code",
   "execution_count": 6,
   "metadata": {
    "id": "KShvLMJFJ8O5"
   },
   "outputs": [],
   "source": [
    "experiment_list = [\"run_sim\"]"
   ]
  },
  {
   "cell_type": "code",
   "execution_count": 7,
   "metadata": {
    "colab": {
     "base_uri": "https://localhost:8080/"
    },
    "id": "V20YPEnHJ8O5",
    "outputId": "7e821252-b20c-40fa-da64-279b81c7f6a1"
   },
   "outputs": [
    {
     "data": {
      "text/plain": [
       "['../rccp_experiments/run_sim']"
      ]
     },
     "execution_count": 7,
     "metadata": {},
     "output_type": "execute_result"
    }
   ],
   "source": [
    "experiment_folder_list = [os.path.join(output_folder, exp) for exp in experiment_list]\n",
    "experiment_folder_list"
   ]
  },
  {
   "cell_type": "markdown",
   "metadata": {
    "id": "UfljRhw8J8O5"
   },
   "source": [
    "### 1.3. List which CPP models to process"
   ]
  },
  {
   "cell_type": "code",
   "execution_count": 8,
   "metadata": {
    "id": "q94S2UkaJ8O6"
   },
   "outputs": [],
   "source": [
    "simulated_model_list = [\"robust-budget\", \"robust-box\", \"robust-budget\"]"
   ]
  },
  {
   "cell_type": "markdown",
   "metadata": {
    "id": "BdUD99nOJ8O6"
   },
   "source": [
    "### 1.4. Select instance_group to process"
   ]
  },
  {
   "cell_type": "code",
   "execution_count": 9,
   "metadata": {
    "id": "Lkl_qwLbJ8O6"
   },
   "outputs": [],
   "source": [
    "instance_group_list = [\"utc-skew\"]"
   ]
  },
  {
   "cell_type": "markdown",
   "metadata": {
    "id": "TUXYxB68J8O6"
   },
   "source": [
    "### 1.5. Select RTCS forecast types to process"
   ]
  },
  {
   "cell_type": "code",
   "execution_count": 10,
   "metadata": {
    "id": "t2Pc9sjOJ8O7"
   },
   "outputs": [],
   "source": [
    "forecast_type_list = [\"average\"]  # average-based RTCS forecast"
   ]
  },
  {
   "cell_type": "code",
   "execution_count": 11,
   "metadata": {
    "colab": {
     "base_uri": "https://localhost:8080/"
    },
    "id": "HW1mU7iBJ8O9",
    "outputId": "5c2a66b2-0dd5-4db7-b100-d1d481dbc69c"
   },
   "outputs": [
    {
     "data": {
      "text/plain": [
       "['A_instance2_1000s_skewed-left.txt',\n",
       " 'A_instance2_1000s_skewed-right.txt',\n",
       " 'A_instance2_1000s_uniform.txt',\n",
       " 'A_instance2_1NDU_Cons_1000s_skewed-left.txt',\n",
       " 'A_instance2_1NDU_Cons_1000s_skewed-right.txt',\n",
       " 'A_instance2_1NDU_Cons_1000s_uniform.txt',\n",
       " 'A_instance2_1NDU_Prod_1000s_skewed-left.txt',\n",
       " 'A_instance2_1NDU_Prod_1000s_skewed-right.txt',\n",
       " 'A_instance2_1NDU_Prod_1000s_uniform.txt']"
      ]
     },
     "execution_count": 11,
     "metadata": {},
     "output_type": "execute_result"
    }
   ],
   "source": [
    "instances_to_process = [\"A_instance2_1000s_skewed-left.txt\", \"A_instance2_1000s_skewed-right.txt\", \"A_instance2_1000s_uniform.txt\",\n",
    "                       \"A_instance2_1NDU_Cons_1000s_skewed-left.txt\", \"A_instance2_1NDU_Cons_1000s_skewed-right.txt\", \"A_instance2_1NDU_Cons_1000s_uniform.txt\",\n",
    "                       \"A_instance2_1NDU_Prod_1000s_skewed-left.txt\", \"A_instance2_1NDU_Prod_1000s_skewed-right.txt\", \"A_instance2_1NDU_Prod_1000s_uniform.txt\",]\n",
    "instance_group = \"utc-skew\"\n",
    "instances_to_process"
   ]
  },
  {
   "cell_type": "code",
   "execution_count": 12,
   "metadata": {
    "colab": {
     "base_uri": "https://localhost:8080/"
    },
    "id": "nTwPzoPmJ8O-",
    "outputId": "6a9ce7f6-efb2-4eb4-ed67-62a6dd3c32f4"
   },
   "outputs": [
    {
     "name": "stdout",
     "output_type": "stream",
     "text": [
      "Looking for existing simulations in folder ../rccp_experiments/run_sim/output/simulation/zip/A_instance2_1000s_skewed-left.txt ...\n",
      "Concatenating individual trace_df dataframes...\n",
      "Concatenation done.\n",
      "Looking for existing simulations in folder ../rccp_experiments/run_sim/output/simulation/zip/A_instance2_1000s_skewed-right.txt ...\n",
      "Concatenating individual trace_df dataframes...\n",
      "Concatenation done.\n",
      "Looking for existing simulations in folder ../rccp_experiments/run_sim/output/simulation/zip/A_instance2_1000s_uniform.txt ...\n",
      "Concatenating individual trace_df dataframes...\n",
      "Concatenation done.\n",
      "Looking for existing simulations in folder ../rccp_experiments/run_sim/output/simulation/zip/A_instance2_1NDU_Cons_1000s_skewed-left.txt ...\n",
      "Concatenating individual trace_df dataframes...\n",
      "Concatenation done.\n",
      "Looking for existing simulations in folder ../rccp_experiments/run_sim/output/simulation/zip/A_instance2_1NDU_Cons_1000s_skewed-right.txt ...\n",
      "Concatenating individual trace_df dataframes...\n",
      "Concatenation done.\n",
      "Looking for existing simulations in folder ../rccp_experiments/run_sim/output/simulation/zip/A_instance2_1NDU_Cons_1000s_uniform.txt ...\n",
      "Concatenating individual trace_df dataframes...\n",
      "Concatenation done.\n",
      "Looking for existing simulations in folder ../rccp_experiments/run_sim/output/simulation/zip/A_instance2_1NDU_Prod_1000s_skewed-left.txt ...\n",
      "Concatenating individual trace_df dataframes...\n",
      "Concatenation done.\n",
      "Looking for existing simulations in folder ../rccp_experiments/run_sim/output/simulation/zip/A_instance2_1NDU_Prod_1000s_skewed-right.txt ...\n",
      "Concatenating individual trace_df dataframes...\n",
      "Concatenation done.\n",
      "Looking for existing simulations in folder ../rccp_experiments/run_sim/output/simulation/zip/A_instance2_1NDU_Prod_1000s_uniform.txt ...\n",
      "Concatenating individual trace_df dataframes...\n",
      "Concatenation done.\n"
     ]
    }
   ],
   "source": [
    "df_list = []\n",
    "for instance_name in instances_to_process:\n",
    "    result_path = os.path.join(experiment_folder_list[0], \"output\", \"simulation\", \"zip\", instance_name)\n",
    "    df_ = read_concatenated_trace_df(result_path)\n",
    "    df_['InstanceName'] = instance_name\n",
    "    df_list.append(df_)\n",
    "df = pd.concat(df_list)"
   ]
  },
  {
   "cell_type": "code",
   "execution_count": 13,
   "metadata": {
    "colab": {
     "base_uri": "https://localhost:8080/",
     "height": 204
    },
    "id": "kcMyGkOrJ8O-",
    "outputId": "fe4af83e-2d3c-400f-bf47-991a17d76be8"
   },
   "outputs": [
    {
     "data": {
      "text/html": [
       "<div>\n",
       "<style scoped>\n",
       "    .dataframe tbody tr th:only-of-type {\n",
       "        vertical-align: middle;\n",
       "    }\n",
       "\n",
       "    .dataframe tbody tr th {\n",
       "        vertical-align: top;\n",
       "    }\n",
       "\n",
       "    .dataframe thead th {\n",
       "        text-align: right;\n",
       "    }\n",
       "</style>\n",
       "<table border=\"1\" class=\"dataframe\">\n",
       "  <thead>\n",
       "    <tr style=\"text-align: right;\">\n",
       "      <th></th>\n",
       "      <th>Model</th>\n",
       "      <th>GammaPerc</th>\n",
       "      <th>Gamma</th>\n",
       "      <th>Strategy</th>\n",
       "      <th>Reoptimize</th>\n",
       "      <th>ModelPolicy</th>\n",
       "      <th>ForecastType</th>\n",
       "      <th>ScenarioId</th>\n",
       "      <th>t</th>\n",
       "      <th>d</th>\n",
       "      <th>ObjValue</th>\n",
       "      <th>OptTimeSpent</th>\n",
       "      <th>e_td</th>\n",
       "      <th>gap</th>\n",
       "      <th>cost</th>\n",
       "      <th>RealProcTime</th>\n",
       "      <th>InstanceName</th>\n",
       "    </tr>\n",
       "  </thead>\n",
       "  <tbody>\n",
       "    <tr>\n",
       "      <th>0</th>\n",
       "      <td>robust-budget</td>\n",
       "      <td>0.0</td>\n",
       "      <td>0.0</td>\n",
       "      <td>conservative</td>\n",
       "      <td>False</td>\n",
       "      <td>ignore_model</td>\n",
       "      <td>average</td>\n",
       "      <td>477.0</td>\n",
       "      <td>1.0</td>\n",
       "      <td>1.0</td>\n",
       "      <td>7043.470732</td>\n",
       "      <td>61.100381</td>\n",
       "      <td>0.0</td>\n",
       "      <td>0.0</td>\n",
       "      <td>20.866271</td>\n",
       "      <td>3.726652</td>\n",
       "      <td>A_instance2_1000s_skewed-left.txt</td>\n",
       "    </tr>\n",
       "    <tr>\n",
       "      <th>1</th>\n",
       "      <td>robust-budget</td>\n",
       "      <td>0.0</td>\n",
       "      <td>0.0</td>\n",
       "      <td>conservative</td>\n",
       "      <td>False</td>\n",
       "      <td>ignore_model</td>\n",
       "      <td>average</td>\n",
       "      <td>477.0</td>\n",
       "      <td>1.0</td>\n",
       "      <td>2.0</td>\n",
       "      <td>7043.470732</td>\n",
       "      <td>0.000000</td>\n",
       "      <td>0.0</td>\n",
       "      <td>0.0</td>\n",
       "      <td>20.157530</td>\n",
       "      <td>3.727324</td>\n",
       "      <td>A_instance2_1000s_skewed-left.txt</td>\n",
       "    </tr>\n",
       "    <tr>\n",
       "      <th>2</th>\n",
       "      <td>robust-budget</td>\n",
       "      <td>0.0</td>\n",
       "      <td>0.0</td>\n",
       "      <td>conservative</td>\n",
       "      <td>False</td>\n",
       "      <td>ignore_model</td>\n",
       "      <td>average</td>\n",
       "      <td>477.0</td>\n",
       "      <td>1.0</td>\n",
       "      <td>3.0</td>\n",
       "      <td>7043.470732</td>\n",
       "      <td>0.000000</td>\n",
       "      <td>0.0</td>\n",
       "      <td>0.0</td>\n",
       "      <td>19.948715</td>\n",
       "      <td>3.727636</td>\n",
       "      <td>A_instance2_1000s_skewed-left.txt</td>\n",
       "    </tr>\n",
       "    <tr>\n",
       "      <th>3</th>\n",
       "      <td>robust-budget</td>\n",
       "      <td>0.0</td>\n",
       "      <td>0.0</td>\n",
       "      <td>conservative</td>\n",
       "      <td>False</td>\n",
       "      <td>ignore_model</td>\n",
       "      <td>average</td>\n",
       "      <td>477.0</td>\n",
       "      <td>1.0</td>\n",
       "      <td>4.0</td>\n",
       "      <td>7043.470732</td>\n",
       "      <td>0.000000</td>\n",
       "      <td>0.0</td>\n",
       "      <td>0.0</td>\n",
       "      <td>20.041516</td>\n",
       "      <td>3.728305</td>\n",
       "      <td>A_instance2_1000s_skewed-left.txt</td>\n",
       "    </tr>\n",
       "    <tr>\n",
       "      <th>4</th>\n",
       "      <td>robust-budget</td>\n",
       "      <td>0.0</td>\n",
       "      <td>0.0</td>\n",
       "      <td>conservative</td>\n",
       "      <td>False</td>\n",
       "      <td>ignore_model</td>\n",
       "      <td>average</td>\n",
       "      <td>477.0</td>\n",
       "      <td>1.0</td>\n",
       "      <td>5.0</td>\n",
       "      <td>7043.470732</td>\n",
       "      <td>0.000000</td>\n",
       "      <td>0.0</td>\n",
       "      <td>0.0</td>\n",
       "      <td>19.881354</td>\n",
       "      <td>3.728554</td>\n",
       "      <td>A_instance2_1000s_skewed-left.txt</td>\n",
       "    </tr>\n",
       "  </tbody>\n",
       "</table>\n",
       "</div>"
      ],
      "text/plain": [
       "           Model  GammaPerc  Gamma      Strategy Reoptimize   ModelPolicy  \\\n",
       "0  robust-budget        0.0    0.0  conservative      False  ignore_model   \n",
       "1  robust-budget        0.0    0.0  conservative      False  ignore_model   \n",
       "2  robust-budget        0.0    0.0  conservative      False  ignore_model   \n",
       "3  robust-budget        0.0    0.0  conservative      False  ignore_model   \n",
       "4  robust-budget        0.0    0.0  conservative      False  ignore_model   \n",
       "\n",
       "  ForecastType  ScenarioId    t    d     ObjValue  OptTimeSpent  e_td  gap  \\\n",
       "0      average       477.0  1.0  1.0  7043.470732     61.100381   0.0  0.0   \n",
       "1      average       477.0  1.0  2.0  7043.470732      0.000000   0.0  0.0   \n",
       "2      average       477.0  1.0  3.0  7043.470732      0.000000   0.0  0.0   \n",
       "3      average       477.0  1.0  4.0  7043.470732      0.000000   0.0  0.0   \n",
       "4      average       477.0  1.0  5.0  7043.470732      0.000000   0.0  0.0   \n",
       "\n",
       "        cost  RealProcTime                       InstanceName  \n",
       "0  20.866271      3.726652  A_instance2_1000s_skewed-left.txt  \n",
       "1  20.157530      3.727324  A_instance2_1000s_skewed-left.txt  \n",
       "2  19.948715      3.727636  A_instance2_1000s_skewed-left.txt  \n",
       "3  20.041516      3.728305  A_instance2_1000s_skewed-left.txt  \n",
       "4  19.881354      3.728554  A_instance2_1000s_skewed-left.txt  "
      ]
     },
     "execution_count": 13,
     "metadata": {},
     "output_type": "execute_result"
    }
   ],
   "source": [
    "df.head()"
   ]
  },
  {
   "cell_type": "code",
   "execution_count": 14,
   "metadata": {
    "colab": {
     "base_uri": "https://localhost:8080/"
    },
    "id": "WWSlwz47J8O-",
    "outputId": "fe79132d-c000-4aff-8753-29cfece51fb1"
   },
   "outputs": [
    {
     "name": "stdout",
     "output_type": "stream",
     "text": [
      "<class 'pandas.core.frame.DataFrame'>\n",
      "Int64Index: 6669792 entries, 0 to 143\n",
      "Data columns (total 17 columns):\n",
      " #   Column        Dtype  \n",
      "---  ------        -----  \n",
      " 0   Model         object \n",
      " 1   GammaPerc     float64\n",
      " 2   Gamma         float64\n",
      " 3   Strategy      object \n",
      " 4   Reoptimize    object \n",
      " 5   ModelPolicy   object \n",
      " 6   ForecastType  object \n",
      " 7   ScenarioId    float64\n",
      " 8   t             float64\n",
      " 9   d             float64\n",
      " 10  ObjValue      float64\n",
      " 11  OptTimeSpent  float64\n",
      " 12  e_td          float64\n",
      " 13  gap           float64\n",
      " 14  cost          float64\n",
      " 15  RealProcTime  float64\n",
      " 16  InstanceName  object \n",
      "dtypes: float64(11), object(6)\n",
      "memory usage: 916.0+ MB\n"
     ]
    }
   ],
   "source": [
    "df.info()"
   ]
  },
  {
   "cell_type": "markdown",
   "metadata": {
    "id": "qczsAb-lJ8O_"
   },
   "source": [
    "### Create the output folders for processed results"
   ]
  },
  {
   "cell_type": "code",
   "execution_count": 15,
   "metadata": {
    "colab": {
     "base_uri": "https://localhost:8080/"
    },
    "id": "w0V19EKsJ8O_",
    "outputId": "9f08a004-80d7-4b5a-bcd7-ad9d80d41c8d"
   },
   "outputs": [
    {
     "name": "stdout",
     "output_type": "stream",
     "text": [
      "Saving files on folder: ../rccp_results/consolidated_results/df\n"
     ]
    }
   ],
   "source": [
    "reportfolder = os.path.join(results_folder, 'consolidated_results', 'df')\n",
    "if not os.path.exists(reportfolder):\n",
    "    os.makedirs(reportfolder)\n",
    "print('Saving files on folder: ' + reportfolder)"
   ]
  },
  {
   "cell_type": "markdown",
   "metadata": {
    "id": "8kHVX77LJ8O_"
   },
   "source": [
    "### Export consolidated results dataframe to pickle file\n"
   ]
  },
  {
   "cell_type": "code",
   "execution_count": 16,
   "metadata": {
    "colab": {
     "base_uri": "https://localhost:8080/"
    },
    "id": "aHSoda9aJ8O_",
    "outputId": "166468d7-f0e9-4226-b765-660c29ffbe05"
   },
   "outputs": [
    {
     "name": "stdout",
     "output_type": "stream",
     "text": [
      "Saved consolidated results to:  ../rccp_results/consolidated_results/df/run_sim_utc_forecast_avg.results.pkl.gz\n"
     ]
    }
   ],
   "source": [
    "pickle_filepath = os.path.join(reportfolder, 'run_sim_utc_forecast_avg.results.pkl.gz')\n",
    "df.to_pickle(pickle_filepath)\n",
    "print('Saved consolidated results to: ', pickle_filepath)"
   ]
  },
  {
   "cell_type": "code",
   "execution_count": null,
   "metadata": {
    "id": "fbOF3mG5gRCO"
   },
   "outputs": [],
   "source": []
  }
 ],
 "metadata": {
  "colab": {
   "name": "1.process_ccp_sim_results_UTC.ipynb",
   "provenance": []
  },
  "kernelspec": {
   "display_name": "Python 3",
   "language": "python",
   "name": "python3"
  },
  "language_info": {
   "codemirror_mode": {
    "name": "ipython",
    "version": 3
   },
   "file_extension": ".py",
   "mimetype": "text/x-python",
   "name": "python",
   "nbconvert_exporter": "python",
   "pygments_lexer": "ipython3",
   "version": "3.6.8"
  }
 },
 "nbformat": 4,
 "nbformat_minor": 4
}
