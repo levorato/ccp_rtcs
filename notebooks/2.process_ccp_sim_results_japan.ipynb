{
  "nbformat": 4,
  "nbformat_minor": 0,
  "metadata": {
    "kernelspec": {
      "display_name": "Python 3",
      "language": "python",
      "name": "python3"
    },
    "language_info": {
      "codemirror_mode": {
        "name": "ipython",
        "version": 3
      },
      "file_extension": ".py",
      "mimetype": "text/x-python",
      "name": "python",
      "nbconvert_exporter": "python",
      "pygments_lexer": "ipython3",
      "version": "3.7.9"
    },
    "colab": {
      "name": "2.process_ccp_sim_results_japan.ipynb",
      "provenance": [],
      "collapsed_sections": [
        "LvUsmLOjNoBV"
      ]
    }
  },
  "cells": [
    {
      "cell_type": "markdown",
      "metadata": {
        "id": "lWsENTyUNoA1"
      },
      "source": [
        "# Process CCP simulation results - Japan microgrid"
      ]
    },
    {
      "cell_type": "code",
      "metadata": {
        "id": "0Df6KXQ4NoA5"
      },
      "source": [
        "import pandas as pd\n",
        "import numpy as np\n",
        "import os, fnmatch\n",
        "import matplotlib.pyplot as plt\n",
        "import matplotlib.dates as mdates\n",
        "import warnings\n",
        "warnings.filterwarnings('ignore')\n",
        "warnings.filterwarnings('ignore', category=DeprecationWarning)\n",
        "import glob\n",
        "import seaborn as sns\n",
        "import gzip\n",
        "import matplotlib.style as style\n",
        "from matplotlib.path import Path\n",
        "from matplotlib.patches import BoxStyle\n",
        "from sys import platform\n",
        "import pyarrow as pa\n",
        "%matplotlib inline"
      ],
      "execution_count": null,
      "outputs": []
    },
    {
      "cell_type": "code",
      "metadata": {
        "id": "wOLMyUXjQIoY"
      },
      "source": [
        "# Import custom python file from github repo: https://changhsinlee.com/colab-import-python/\n",
        "!pip install requests\n",
        "import requests\n",
        "# Save python as file to colab working directory\n",
        "# If you are using GitHub, make sure you get the \"Raw\" version of the code\n",
        "url = 'https://raw.githubusercontent.com/levorato/ccp_rtcs/master/notebooks/rccp_utils.py'\n",
        "r = requests.get(url)\n",
        "# make sure your filename is the same as how you want to import \n",
        "with open('rccp_utils.py', 'w') as f:\n",
        "    f.write(r.text)\n",
        "# now we can import\n",
        "from rccp_utils import *"
      ],
      "execution_count": null,
      "outputs": []
    },
    {
      "cell_type": "markdown",
      "metadata": {
        "id": "RIDR0xpINoA6"
      },
      "source": [
        "## 1. Process result files"
      ]
    },
    {
      "cell_type": "markdown",
      "metadata": {
        "id": "CFGphQIzNoA7"
      },
      "source": [
        "### 1.1. Setup project folders"
      ]
    },
    {
      "cell_type": "code",
      "metadata": {
        "id": "tJ33M86qQPy0"
      },
      "source": [
        "from google.colab import drive\n",
        "drive.mount('/content/gdrive/')"
      ],
      "execution_count": null,
      "outputs": []
    },
    {
      "cell_type": "code",
      "metadata": {
        "id": "sqtILOKnNoA7"
      },
      "source": [
        "gdrive_folder = '/content/gdrive/MyDrive'\n",
        "project_folder = '..'\n",
        "antoine_instances_folder = os.path.join(project_folder, \"instances\", \"utc_skew\")\n",
        "toy_instances_folder = os.path.join(project_folder, \"instances\", \"toy\")\n",
        "instances_folder = os.path.join(project_folder, \"instances\")\n",
        "japan_instances_folder = os.path.join(project_folder, \"instances\", \"japan_microgrid\")\n",
        "output_folder = os.path.join(gdrive_folder, \"rccp_experiments\")\n",
        "results_folder = os.path.join(gdrive_folder, \"rccp_results\")\n",
        "print(\"*** Project folder is\", project_folder)\n",
        "print(\"*** Instances folder is\",  instances_folder)\n",
        "print(\"*** Output folder is\", output_folder)"
      ],
      "execution_count": null,
      "outputs": []
    },
    {
      "cell_type": "markdown",
      "metadata": {
        "id": "9-Wd-EYoNoA8"
      },
      "source": [
        "### 1.2. List which experiments to process"
      ]
    },
    {
      "cell_type": "code",
      "metadata": {
        "id": "XepqhEI_NoA9"
      },
      "source": [
        "experiment_list = [\"run_sim_japan_forecast_avg\"]"
      ],
      "execution_count": null,
      "outputs": []
    },
    {
      "cell_type": "code",
      "metadata": {
        "id": "CB5cYCPfNoA-"
      },
      "source": [
        "experiment_folder_list = [os.path.join(output_folder, exp) for exp in experiment_list]\n",
        "experiment_folder_list"
      ],
      "execution_count": null,
      "outputs": []
    },
    {
      "cell_type": "markdown",
      "metadata": {
        "id": "EUr45WgjNoA-"
      },
      "source": [
        "### 1.3. List which CPP models to process"
      ]
    },
    {
      "cell_type": "code",
      "metadata": {
        "id": "gITF99KqNoA_"
      },
      "source": [
        "simulated_model_list = [\"robust-budget\", \"robust-box\", \"robust-budget\"]"
      ],
      "execution_count": null,
      "outputs": []
    },
    {
      "cell_type": "markdown",
      "metadata": {
        "id": "AK1rxD7ENoA_"
      },
      "source": [
        "### 1.4. Select instance_group to process"
      ]
    },
    {
      "cell_type": "code",
      "metadata": {
        "id": "WFzKYaETNoBA"
      },
      "source": [
        "instance_group_list = [\"japan-10\"]"
      ],
      "execution_count": null,
      "outputs": []
    },
    {
      "cell_type": "markdown",
      "metadata": {
        "id": "xnUHq4VRNoBA"
      },
      "source": [
        "### 1.5. Select RTCS forecast types to process"
      ]
    },
    {
      "cell_type": "code",
      "metadata": {
        "id": "JaeaHO9wNoBA"
      },
      "source": [
        "forecast_type_list = [\"average\"]  # average-based RTCS forecast"
      ],
      "execution_count": null,
      "outputs": []
    },
    {
      "cell_type": "code",
      "metadata": {
        "id": "udE_7M6yNoBB"
      },
      "source": [
        "instance_group = \"japan-10\""
      ],
      "execution_count": null,
      "outputs": []
    },
    {
      "cell_type": "markdown",
      "metadata": {
        "id": "8ONMgHfSYUND"
      },
      "source": [
        "### 1.6. Read consolidated result file"
      ]
    },
    {
      "cell_type": "code",
      "metadata": {
        "id": "h0ke7xypNoBB"
      },
      "source": [
        "result_path = os.path.join(experiment_folder_list[0], \"run_sim_japan_forecast_avg.japan-10.results.pkl.gz\")\n",
        "df = pd.read_pickle(result_path)"
      ],
      "execution_count": null,
      "outputs": []
    },
    {
      "cell_type": "code",
      "metadata": {
        "id": "zw--AvNwNoBC"
      },
      "source": [
        "df.head()"
      ],
      "execution_count": null,
      "outputs": []
    },
    {
      "cell_type": "code",
      "metadata": {
        "id": "mU_I2EntNoBC"
      },
      "source": [
        "df.info()"
      ],
      "execution_count": null,
      "outputs": []
    },
    {
      "cell_type": "markdown",
      "metadata": {
        "id": "YxbMpnycNoBC"
      },
      "source": [
        "### 1.7. Create the output folders for processed results"
      ]
    },
    {
      "cell_type": "code",
      "metadata": {
        "id": "JPP9GO_bNoBC"
      },
      "source": [
        "reportfolder = os.path.join(results_folder, 'consolidated_results', experiment_list[0])\n",
        "reportfolder_graph = os.path.join(reportfolder, 'graphs')\n",
        "reportfolder_table = os.path.join(reportfolder, 'tables')\n",
        "if not os.path.exists(reportfolder_graph):\n",
        "    os.makedirs(reportfolder_graph)\n",
        "if not os.path.exists(reportfolder_table):\n",
        "    os.makedirs(reportfolder_table)\n",
        "print('Saving files on folder: ' + reportfolder)"
      ],
      "execution_count": null,
      "outputs": []
    },
    {
      "cell_type": "markdown",
      "metadata": {
        "id": "t43eoMspNoBD"
      },
      "source": [
        "### 1.8. Obtain list of Model, Strategy, ModelPolicy, ForecastType"
      ]
    },
    {
      "cell_type": "code",
      "metadata": {
        "id": "LxAsBQYXNoBD"
      },
      "source": [
        "model_list = df['Model'].unique().tolist()\n",
        "strategy_list = df['Strategy'].unique().tolist()\n",
        "model_policy_list = df['ModelPolicy'].unique().tolist()\n",
        "reoptimize_value_list = df['Reoptimize'].unique().tolist()\n",
        "forecast_type_list = df['ForecastType'].unique().tolist()\n",
        "instances_to_process = df['InstanceName'].unique().tolist()\n",
        "print(\"Model\", model_list)\n",
        "print(\"Strategy\", strategy_list)\n",
        "print(\"ModelPolicy\", model_policy_list)\n",
        "print(\"Reoptimize\", reoptimize_value_list)\n",
        "print(\"ForecastType\", forecast_type_list)\n",
        "print(\"InstanceName\", instances_to_process)"
      ],
      "execution_count": null,
      "outputs": []
    },
    {
      "cell_type": "markdown",
      "metadata": {
        "id": "_acmAIkbhIHs"
      },
      "source": [
        "### 1.9. Replace the InstanceName column with the season name of each instance"
      ]
    },
    {
      "cell_type": "code",
      "metadata": {
        "id": "XOn-2fwJhMZ5"
      },
      "source": [
        "df['OriginalInstanceName'] = df['InstanceName']\n",
        "df['InstanceName'] = df['InstanceName'].str.replace('instance_deltamin10_', '', regex=False).str.replace('.txt', '', regex=False)\n",
        "df['GammaPerc'] = df['GammaPerc'].astype(int)\n",
        "df.head()"
      ],
      "execution_count": null,
      "outputs": []
    },
    {
      "cell_type": "markdown",
      "metadata": {
        "id": "s7MSILAlWFPb"
      },
      "source": [
        "### 1.10. Create 2 new columns: one called ModelName one with the RTCS Policy\n",
        "\n",
        "* `ModelName` contains MILP model name including parameters (in the budget case)\n",
        "\n",
        "* `RTCS_Policy` concatenates the info about policy (conservative, audacious, cheapest), look-ahead (i.e., full_model, ignore_model) and model reoptimization (true, false)."
      ]
    },
    {
      "cell_type": "code",
      "metadata": {
        "id": "sIF9jQYxWqAB"
      },
      "source": [
        "# ModelName\n",
        "df['ModelName'] = df['Model']\n",
        "df.loc[(df['Model'] == 'robust-budget'), 'ModelName'] = df.loc[(df['Model'] == 'robust-budget'), 'Model'] + '-'\\\n",
        "    + df.loc[(df['Model'] == 'robust-budget'), 'GammaPerc'].astype(str)\n",
        "# RTCSPolicy\n",
        "df['RTCS_Policy'] = df['Strategy'] +\tdf['ModelPolicy'].str.replace('ignore_model', '').str.replace('full_model', '+LA')\\\n",
        "                + df['Reoptimize'].astype(str).str.replace('True', '+ReOpt').str.replace('False', '')\n",
        "#df.drop(columns=['Strategy', 'ModelPolicy', 'Reoptimize', 'ForecastType'], inplace=True)\n",
        "df.head()"
      ],
      "execution_count": null,
      "outputs": []
    },
    {
      "cell_type": "markdown",
      "metadata": {
        "id": "dmbU8ujvg7Sw"
      },
      "source": [
        "## Table 0. Number of scenarios per instance"
      ]
    },
    {
      "cell_type": "code",
      "metadata": {
        "id": "eeBwcn5gg_fX"
      },
      "source": [
        "df_num_scenarios_per_instance = df[((df['t'] == 1) & (df['d'] == 1))].groupby(by=['InstanceName', 'Model', 'ModelName', 'RTCS_Policy', 'Gamma', 'GammaPerc']).count().reset_index()\n",
        "df_num_scenarios_per_instance = df_num_scenarios_per_instance[['InstanceName', 'Model', 'ModelName', 'RTCS_Policy', 'Gamma', 'GammaPerc', 'ScenarioId']]\n",
        "df_num_scenarios_per_instance.rename(columns={'ScenarioId' : 'ScenarioCount'}, inplace=True)\n",
        "df_num_scenarios_per_instance"
      ],
      "execution_count": null,
      "outputs": []
    },
    {
      "cell_type": "markdown",
      "metadata": {
        "id": "QD5UmQ2GNoBE"
      },
      "source": [
        "## Table 1. Simulation performance given all instances \n",
        "\n",
        "Model-wise RTCS simulation performance comparison, given all instances.\n",
        "\n",
        "* Median, Mean, Std. dev and sum of each measure (cost, e_td, gap, time). "
      ]
    },
    {
      "cell_type": "code",
      "metadata": {
        "id": "6cYk7_p6NoBE"
      },
      "source": [
        "per_instance_stats = dict()\n",
        "instances_to_process = df['InstanceName'].unique().tolist()\n",
        "for instance_name in instances_to_process:  # group by instance\n",
        "    df_itype = df[(df['InstanceName'] == instance_name)]\n",
        "    _model_list = df_itype['Model'].unique().tolist()\n",
        "    for model in _model_list:\n",
        "        df_model = df_itype[df_itype['Model'] == model]\n",
        "        _gamma_perc_list = df_model['GammaPerc'].unique().tolist()\n",
        "        for gamma_perc in _gamma_perc_list:\n",
        "            df_gamma = df_model[df_model['GammaPerc'] == gamma_perc]\n",
        "            policy_list = df_gamma['RTCS_Policy'].unique().tolist()\n",
        "            for policy in policy_list:\n",
        "                  df_ = df_gamma[df_gamma['RTCS_Policy'] == policy]\n",
        "                  key = (instance_name, model, gamma_perc, policy)\n",
        "                  per_instance_stats[key] = dict()\n",
        "                  #per_instance_stats[key]['% Best Performance'] = calculate_perc_best_performance(df_instance, model)\n",
        "                  #per_instance_stats[key]['% Solved'] = calculate_perc_solved(df_rpfs, model, instance_type, instance_size)\n",
        "                  #per_instance_stats[key]['Avg. % gap'] = calculate_avg_perc_gap(df_instance, model)\n",
        "                  per_instance_stats[key]['Median time'] = np.round(df_['RealProcTime'].median(), 2)\n",
        "                  per_instance_stats[key]['Avg. time'] = np.round(df_['RealProcTime'].mean(), 2)\n",
        "                  per_instance_stats[key]['Std. dev. of time'] = np.round(df_['RealProcTime'].std(), 2)\n",
        "                  per_instance_stats[key]['Total time'] = np.round(df_['RealProcTime'].sum(), 2)\n",
        "                  \n",
        "                  per_instance_stats[key]['Median cost'] = np.round(df_['cost'].median(), 2)\n",
        "                  per_instance_stats[key]['Avg. cost'] = np.round(df_['cost'].mean(), 2)\n",
        "                  per_instance_stats[key]['Std. dev. of cost'] = np.round(df_['cost'].std(), 2)\n",
        "                  per_instance_stats[key]['Total cost'] = np.round(df_['cost'].sum(), 2)\n",
        "                  \n",
        "                  per_instance_stats[key]['Median gap'] = np.round(df_['gap'].median(), 2)\n",
        "                  per_instance_stats[key]['Avg. gap'] = np.round(df_['gap'].mean(), 2)\n",
        "                  per_instance_stats[key]['Std. dev. of gap'] = np.round(df_['gap'].std(), 2)\n",
        "                  per_instance_stats[key]['Total gap'] = np.round(df_['gap'].sum(), 2)\n",
        "                  \n",
        "                  per_instance_stats[key]['Median e_td'] = np.round(df_['e_td'].median(), 2)\n",
        "                  per_instance_stats[key]['Avg. e_td'] = np.round(df_['e_td'].mean(), 2)\n",
        "                  per_instance_stats[key]['Std. dev. of e_td'] = np.round(df_['e_td'].std(), 2)\n",
        "                  per_instance_stats[key]['Total e_td'] = np.round(df_['e_td'].sum(), 2)"
      ],
      "execution_count": null,
      "outputs": []
    },
    {
      "cell_type": "code",
      "metadata": {
        "id": "XO3giqeVNoBO"
      },
      "source": [
        "df_table1 = pd.DataFrame.from_dict(per_instance_stats)\n",
        "df_table1.head()"
      ],
      "execution_count": null,
      "outputs": []
    },
    {
      "cell_type": "markdown",
      "metadata": {
        "id": "6YMBW5QpNoBP"
      },
      "source": [
        "### Table 1. Total cost considering all simulations for a specific CCP model and RTCS policy"
      ]
    },
    {
      "cell_type": "code",
      "metadata": {
        "id": "E7T4wcALNoBP"
      },
      "source": [
        "df_totals = df.drop(columns=['t', 'd', 'OptTimeSpent']).groupby(by=['InstanceName', 'Model', 'GammaPerc', 'Gamma', 'RTCS_Policy']).sum()\n",
        "df_total_proc_time = df_totals.drop(columns=['ScenarioId', 'e_td', 'gap', 'ObjValue', 'cost'])\n",
        "df_total_cost = df_totals.drop(columns=['ScenarioId', 'e_td', 'gap', 'ObjValue', 'RealProcTime']).reset_index()\n",
        "# total simulation cost of the deterministic model\n",
        "df_total_cost_det = df_total_cost[(df_total_cost['Model'] == 'deterministic')].drop(columns=['Model', 'GammaPerc', 'Gamma']).rename(columns={\"cost\": \"cost(det)\"})\n",
        "# total simulation cost of the box model\n",
        "df_total_cost_box = df_total_cost[(df_total_cost['Model'] == 'robust-box')].drop(columns=['Model', 'GammaPerc', 'Gamma']).rename(columns={\"cost\": \"cost(box)\"})\n",
        "# total simulation cost of the budget model\n",
        "df_total_cost_bud = df_total_cost[(df_total_cost['Model'] == 'robust-budget')].drop(columns=['Model']).rename(columns={\"cost\": \"cost(bud)\"})\n",
        "df_total_cost_bud_pivot = pd.pivot_table(df_total_cost_bud, values='cost(bud)', index=['InstanceName', 'RTCS_Policy'], \\\n",
        "                                         columns=['GammaPerc'], aggfunc=np.sum)\n",
        "df_total_cost_bud_pivot.columns = [('Cost(bud_' + str(_) + ')') for _ in df_total_cost_bud_pivot.columns]\n",
        "df_total_cost_bud_pivot = df_total_cost_bud_pivot.reset_index()\n"
      ],
      "execution_count": null,
      "outputs": []
    },
    {
      "cell_type": "code",
      "metadata": {
        "id": "gGVAheUjeNul"
      },
      "source": [
        "df_total_cost_bud_pivot"
      ],
      "execution_count": null,
      "outputs": []
    },
    {
      "cell_type": "markdown",
      "metadata": {
        "id": "FOL3-D81aRKv"
      },
      "source": [
        "#### Join the det, box and bud costs in the same dataframe for comparison"
      ]
    },
    {
      "cell_type": "code",
      "metadata": {
        "id": "titY7R0zaOiu"
      },
      "source": [
        "join_columns_total_cost = ['InstanceName', 'RTCS_Policy']\n",
        "df_total_cost_join = df_total_cost_det.merge(df_total_cost_box, on=join_columns_total_cost, suffixes=('_det', '_box'))\\\n",
        "                        .merge(df_total_cost_bud_pivot, on=join_columns_total_cost, suffixes=('', '_bud'))\n",
        "#df_total_cost_join.loc[(), 'Gamma'] = np.nan\n",
        "#df_total_cost_join.loc[(), 'GammaPerc'] = np.nan\n",
        "df_total_cost_join.head()"
      ],
      "execution_count": null,
      "outputs": []
    },
    {
      "cell_type": "markdown",
      "metadata": {
        "id": "kHzmF4auNoBP"
      },
      "source": [
        "### Table 2. Cost of the most expensive scenario (worst simulation cost), grouped by CCP model and simulation parameters"
      ]
    },
    {
      "cell_type": "code",
      "metadata": {
        "id": "FWn3A-gxNoBP"
      },
      "source": [
        "df_t2 = df.drop(columns=['t', 'd', 'OptTimeSpent', 'ObjValue'])\n",
        "df_t2 = df_t2.groupby(by=['InstanceName', 'Model', 'ModelName', 'RTCS_Policy', 'ScenarioId']).sum().\\\n",
        "    drop(columns=['e_td', 'gap', 'RealProcTime', 'GammaPerc', 'Gamma']).\\\n",
        "    groupby(by=['InstanceName', 'Model', 'ModelName', 'RTCS_Policy']).\\\n",
        "    max()\n",
        "\n",
        "df_rob = df_t2.reset_index()\n",
        "df_rob = df_rob[(df_rob['Model'] == 'robust-budget') | (df_rob['Model'] == 'robust-box')]\n",
        "df_det = df_t2.reset_index().drop(columns=['ModelName'])\n",
        "df_det = df_det[df_det['Model'] == 'deterministic']\n",
        "df_wins_t2 = df_rob.merge(df_det, on=['InstanceName', 'RTCS_Policy'], suffixes=('_rob', '_det'))\\\n",
        "    .drop(columns=['Model_det'])\n",
        "df_wins_t2['MaxRobCost_Smaller'] = (df_wins_t2['cost_rob'] < df_wins_t2['cost_det']).astype(int)"
      ],
      "execution_count": null,
      "outputs": []
    },
    {
      "cell_type": "code",
      "metadata": {
        "id": "XCTc0oO6PfCe"
      },
      "source": [
        "#p = sns.countplot(data=df_wins,\n",
        "#                  y = 'InstanceName',\n",
        "#                  hue = 'Model_rob')\n",
        "# grouped barplot\n",
        "# g = sns.barplot(x=\"ModelName\", y=\"rob_wins\", hue=\"InstanceName\", data=df_wins_t2, ci=None)\n",
        "g = sns.catplot(y=\"ModelName\", x=\"MaxRobCost_Smaller\",\n",
        "                 col=\"InstanceName\", hue=\"RTCS_Policy\", \n",
        "                 palette=\"pastel\", edgecolor=\".6\", # orient=\"h\", height=1.5, aspect=4, \n",
        "                 data=df_wins_t2, kind=\"bar\", ci=None)\n",
        "g.set_xticklabels(rotation=90)"
      ],
      "execution_count": null,
      "outputs": []
    },
    {
      "cell_type": "code",
      "metadata": {
        "id": "1yEwbU1LNoBQ"
      },
      "source": [
        "df_wins_t2.set_index(['InstanceName', 'ModelName', 'RTCS_Policy'])"
      ],
      "execution_count": null,
      "outputs": []
    },
    {
      "cell_type": "markdown",
      "metadata": {
        "id": "yxdETxsKNoBQ"
      },
      "source": [
        "### Table 3. RTCS performance map (robust wins)\n",
        "\n",
        "Number of scenarios where Robust RTCS obtained smaller cost, when compared to the Deterministic RTCS, when simulating the same scenario."
      ]
    },
    {
      "cell_type": "code",
      "metadata": {
        "id": "Nm4D5e96NoBR"
      },
      "source": [
        "df_scenario = df.drop(columns=['t', 'd', 'OptTimeSpent', 'ObjValue'])\n",
        "df_scenario['ModelName'] = df_scenario['Model']\n",
        "df_scenario.loc[(df_scenario['Model'] == 'robust-budget'), 'ModelName'] = df_scenario.loc[(df_scenario['Model'] == 'robust-budget'), 'Model'] + '-'\\\n",
        "    + df_scenario.loc[(df_scenario['Model'] == 'robust-budget'), 'GammaPerc'].astype(str)\n",
        "df_scenario = df_scenario.groupby(by=['InstanceName', 'Model', 'ModelName', 'RTCS_Policy', 'ScenarioId']).sum()\\\n",
        "    .drop(columns=['gap', 'RealProcTime', 'GammaPerc', 'Gamma']).reset_index()\n",
        "\n",
        "# simulation cost of the deterministic model, per scenario\n",
        "df_cost_det = df_scenario[(df_scenario['Model'] == 'deterministic')]\n",
        "# simulation cost of the box model, per scenario\n",
        "df_cost_box = df_scenario[(df_scenario['Model'] == 'robust-box')]\n",
        "# simulation cost of the budget model, per scenario\n",
        "df_cost_bud = df_scenario[(df_scenario['Model'] == 'robust-budget')]\n",
        "\n",
        "df_t3 = pd.concat([df_cost_det, df_cost_box, df_cost_bud])\n",
        "df_cheapest_policy_per_scenario = df_t3.drop(columns=['e_td', 'Reoptimize']).groupby(by=['InstanceName', 'ScenarioId']).min()\n",
        "df_cheapest_policy_per_scenario"
      ],
      "execution_count": null,
      "outputs": []
    },
    {
      "cell_type": "code",
      "metadata": {
        "id": "_Lp1_BEo_WPB"
      },
      "source": [
        "g = sns.catplot(x=\"ModelName\", \n",
        "                 col=\"InstanceName\", hue=\"RTCS_Policy\",\n",
        "                 data=df_cheapest_policy_per_scenario.reset_index(), kind=\"count\", ci=None)\n",
        "g.set_xticklabels(rotation=90)"
      ],
      "execution_count": null,
      "outputs": []
    },
    {
      "cell_type": "code",
      "metadata": {
        "id": "9uW4UXV5NoBR"
      },
      "source": [
        "df_target = df_scenario.reset_index().drop(columns=['e_td'])\n",
        "df_target = df_target[(df_target['Model'] == 'robust-budget') | (df_target['Model'] == 'robust-box')]\n",
        "df_det = df_scenario.reset_index().drop(columns=['e_td', 'ModelName'])\n",
        "df_det = df_det[df_det['Model'] == 'deterministic']\n",
        "df_wins_t3 = df_target.merge(df_det, on=['InstanceName', 'RTCS_Policy', 'ScenarioId'], suffixes=('_target', '_det'))\\\n",
        "    .drop(columns=['Model_det', 'Model_target'])\n",
        "df_wins_t3['Cost_Smaller'] = (df_wins_t3['cost_target'] <= df_wins_t3['cost_det']).astype(int)\n",
        "df_wins_t3"
      ],
      "execution_count": null,
      "outputs": []
    },
    {
      "cell_type": "code",
      "metadata": {
        "id": "3ebz-5t3bjFP"
      },
      "source": [
        "df_num_scenarios_per_instance.info()"
      ],
      "execution_count": null,
      "outputs": []
    },
    {
      "cell_type": "code",
      "metadata": {
        "id": "-f6kMQSbbgzI"
      },
      "source": [
        "df_wins_t3_grouped.info()"
      ],
      "execution_count": null,
      "outputs": []
    },
    {
      "cell_type": "code",
      "metadata": {
        "id": "_tbux9p-NoBS"
      },
      "source": [
        "df_wins_t3_grouped = df_wins_t3.groupby(by=['InstanceName', 'ModelName', 'RTCS_Policy']).sum()  # 'ForecastType'\n",
        "df_wins_t3_grouped_perc = df_wins_t3_grouped.reset_index().merge(df_num_scenarios_per_instance, on=['InstanceName', 'ModelName', 'RTCS_Policy'])\n",
        "df_wins_t3_grouped_perc['Cost_Smaller_Perc'] = np.round((100 * df_wins_t3_grouped_perc['Cost_Smaller']) / df_wins_t3_grouped_perc['ScenarioCount'], 0).astype(int)\n",
        "df_wins_t3_grouped_perc"
      ],
      "execution_count": null,
      "outputs": []
    },
    {
      "cell_type": "code",
      "metadata": {
        "id": "_tb6fWmdfooK"
      },
      "source": [
        "g = sns.catplot(x=\"ModelName\", y=\"Cost_Smaller_Perc\",\n",
        "                 col=\"InstanceName\", hue=\"RTCS_Policy\",\n",
        "                 data=df_wins_t3_grouped_perc.reset_index(), kind=\"bar\", ci=None, orient='v')\n",
        "g.set_xticklabels(rotation=90)"
      ],
      "execution_count": null,
      "outputs": []
    },
    {
      "cell_type": "markdown",
      "metadata": {
        "id": "amVtPgTVNoBT"
      },
      "source": [
        "### Table 4. Cheapest RTCS Strategy, per instance and model type"
      ]
    },
    {
      "cell_type": "code",
      "metadata": {
        "id": "-TqElgMINoBT"
      },
      "source": [
        "df_group = df.drop(columns=['t', 'd', 'OptTimeSpent', 'ObjValue']).groupby(by=['InstanceName', 'Model', 'GammaPerc', 'Gamma', 'RTCS_Policy', 'ScenarioId']).sum()\\\n",
        "    .drop(columns=['gap', 'RealProcTime'])\n",
        "# Find the cheapest strategy for each model type\n",
        "df_cheapest = df_group.groupby(by=['InstanceName', 'Model', 'GammaPerc', 'Gamma', 'ScenarioId']).min().drop(columns=['e_td', 'Reoptimize'])\n",
        "df_cheapest"
      ],
      "execution_count": null,
      "outputs": []
    },
    {
      "cell_type": "code",
      "metadata": {
        "id": "3pHo_w_LNoBT"
      },
      "source": [
        "df_target = df_cheapest.reset_index()\n",
        "#df_rob = df_rob[(df_rob['Model'] == 'robust-budget') | (df_rob['Model'] == 'robust-box')]\n",
        "df_det = df_cheapest.reset_index()\n",
        "df_det = df_det[df_det['Model'] == 'deterministic']\n",
        "df_wins_cheapest = df_target.merge(df_det, on=['InstanceName', 'ScenarioId'], suffixes=('_target', '_det'))\\\n",
        "    .drop(columns=['Model_det', 'Gamma_target', 'Gamma_det', 'GammaPerc_det'])\n",
        "df_wins_cheapest['rob_wins'] = (df_wins_cheapest['cost_target'] <= df_wins_cheapest['cost_det']).astype(int)\n",
        "#df_wins_cheapest['det_wins'] = (df_wins_cheapest['cost_rob'] > df_wins_cheapest['cost_det']).astype(int)\n",
        "df_wins_cheapest['#scenarios'] = 1"
      ],
      "execution_count": null,
      "outputs": []
    },
    {
      "cell_type": "code",
      "metadata": {
        "id": "9xAgU_sbomD1"
      },
      "source": [
        "df_wins_cheapest.head()"
      ],
      "execution_count": null,
      "outputs": []
    },
    {
      "cell_type": "code",
      "metadata": {
        "id": "I1wA9H9lNoBU"
      },
      "source": [
        "df_wins_grouped = df_wins_cheapest.groupby(by=['InstanceName', 'Model_target', 'GammaPerc_target']).sum().drop(columns=['ScenarioId'])\n",
        "df_wins_grouped['rob_wins_%'] = np.round(100 * df_wins_grouped['rob_wins'] / df_wins_grouped['#scenarios'], 2)\n",
        "#df_wins_grouped['det_wins_%'] = np.round(100 * df_wins_grouped['det_wins'] / df_wins_grouped['#scenarios'], 2)\n",
        "df_wins_grouped = df_wins_grouped.merge(df_num_scenarios_per_instance, left_on=['InstanceName', 'Model_target', 'GammaPerc_target'],\n",
        "                                        right_on=['InstanceName', 'Model', 'GammaPerc'])\n",
        "df_wins_grouped.head()"
      ],
      "execution_count": null,
      "outputs": []
    },
    {
      "cell_type": "code",
      "metadata": {
        "id": "gA2Q8Htv3YdN"
      },
      "source": [
        "g = sns.catplot(x=\"ModelName\", y=\"rob_wins_%\",\n",
        "                 col=\"InstanceName\", hue=\"RTCS_Policy\",\n",
        "                 data=df_wins_grouped.reset_index(), kind=\"bar\", ci=None, orient='v')\n",
        "g.set_xticklabels(rotation=90)"
      ],
      "execution_count": null,
      "outputs": []
    },
    {
      "cell_type": "markdown",
      "metadata": {
        "id": "vGabrm1YVhkV"
      },
      "source": [
        "### Simulation cost of each scenario"
      ]
    },
    {
      "cell_type": "code",
      "metadata": {
        "id": "4nNWO9qLVio_"
      },
      "source": [
        "df_simulation_cost = df.drop(columns=['t', 'd', 'OptTimeSpent']).groupby(by=['InstanceName', 'ScenarioId', 'Model', 'GammaPerc', 'Gamma', 'RTCS_Policy']).sum()"
      ],
      "execution_count": null,
      "outputs": []
    },
    {
      "cell_type": "markdown",
      "metadata": {
        "id": "CAXLZs4PNoBU"
      },
      "source": [
        "### Figure. Split violin plot with the costs of each scenario, comparing Rob x Det"
      ]
    },
    {
      "cell_type": "code",
      "metadata": {
        "id": "rgFNCPPKgPyi"
      },
      "source": [
        "df_box_vs_det = df_scenario[(df_scenario['ModelName'] == 'robust-box') | (df_scenario['ModelName'] == 'deterministic')]\n",
        "df_box_vs_det['ModelName'].unique()"
      ],
      "execution_count": null,
      "outputs": []
    },
    {
      "cell_type": "code",
      "metadata": {
        "id": "Uo7imcxgNoBU"
      },
      "source": [
        "sns.set(rc={'figure.figsize':(11.7,8.27)})\n",
        "plot4 = sns.catplot(x=\"RTCS_Policy\", y=\"cost\", hue=\"ModelName\",\n",
        "            kind=\"violin\", split=True,\n",
        "            palette=\"pastel\", data=df_box_vs_det)\n",
        "plot4.set_xticklabels(rotation=90)"
      ],
      "execution_count": null,
      "outputs": []
    },
    {
      "cell_type": "code",
      "metadata": {
        "id": "JK8gKbMFhrPK"
      },
      "source": [
        "#a4_dims = (11.7, 8.27)\n",
        "#fig, ax = plt.subplots(figsize=a4_dims)\n",
        "plt.figure(figsize=(20,5))\n",
        "sns.catplot(x=\"cost\", y=\"RTCS_Policy\", hue=\"ModelName\", row=\"InstanceName\", \n",
        "            kind=\"violin\", bw=.15, cut=0, \n",
        "            data=df_scenario,\n",
        "            height=25, # make the plot 15 units high\n",
        "            aspect=0.5) # height should be 2 times width"
      ],
      "execution_count": null,
      "outputs": []
    },
    {
      "cell_type": "code",
      "metadata": {
        "id": "FBCpNpwWmqCx"
      },
      "source": [
        "#a4_dims = (11.7, 8.27)\n",
        "#fig, ax = plt.subplots(figsize=a4_dims)\n",
        "plt.figure(figsize=(20,5))\n",
        "sns.catplot(x=\"cost\", y=\"RTCS_Policy\", hue=\"ModelName\", \n",
        "            kind=\"violin\", bw=.15, cut=0, \n",
        "            data=df_scenario[(df_scenario['InstanceName'] == 'spring')],\n",
        "            height=25, # make the plot 15 units high\n",
        "            aspect=0.5) # height should be 2 times width"
      ],
      "execution_count": null,
      "outputs": []
    },
    {
      "cell_type": "markdown",
      "metadata": {
        "id": "LvUsmLOjNoBV"
      },
      "source": [
        "### TODO Fazer um kde distribution plot dos custos do RTCS obtidos nas simulacoes: robusto-gamma vs. deterministico\n",
        "\n",
        "### TODO Fazer uma tabela com as medidas estatisticas (para cada distribuicao usada) de cada simulacao, incluindo valor esperado, SD, percentis 95, 99 e valor maximo observado empiricamente."
      ]
    },
    {
      "cell_type": "code",
      "metadata": {
        "id": "9i-yphN-NoBV"
      },
      "source": [
        ""
      ],
      "execution_count": null,
      "outputs": []
    },
    {
      "cell_type": "code",
      "metadata": {
        "id": "P3YEuHwINoBV"
      },
      "source": [
        ""
      ],
      "execution_count": null,
      "outputs": []
    },
    {
      "cell_type": "code",
      "metadata": {
        "id": "y3mR72a-NoBV"
      },
      "source": [
        "for experiment_folder in experiment_folder_list:\n",
        "    for instance_group in instance_group_list:\n",
        "        instance_list = get_instance_list(project_folder, antoine_instances_folder, toy_instances_folder, instance_group)\n",
        "        print(instance_group, instance_list)\n",
        "        for model in simulated_model_list:\n",
        "            for forecast_type in forecast_type_list:\n",
        "                print(model, forecast_type)"
      ],
      "execution_count": null,
      "outputs": []
    },
    {
      "cell_type": "raw",
      "metadata": {
        "id": "dk2IAbSgNoBW"
      },
      "source": [
        "        result_path = create_full_dir(normpath(experiment_folder), [\"output\", \"simulation\", \"zip\", instance_name])\n",
        "        scenario_subpath = create_trace_scenario_filename(\n",
        "            model, Gamma_perc, test_name, instance_name, sim_strategy, model_policy, reoptimize, scenario_id)\n",
        "        result_file_base = joinpath(normpath(result_path), scenario_subpath)\n",
        "        output_file_trace_arrow = result_file_base * \".arrow\"\n",
        "        output_file_var_arrow = result_file_base * \"_var.arrow\"\n",
        "    \n",
        "        result_file_zip = result_file_base * \".zip\"\n",
        "        move_files_to_zip_archive(output_file_zip, [output_file_log, output_file_df, output_file_var_arrow, output_file_trace_arrow], general_logger)\n",
        "        trace_df = Arrow.read(output_file_trace_arrow; compress=:lz4)\n",
        "        var_df = Arrow.read(output_file_var_arrow; compress=:lz4)\n",
        "\n",
        "        \n"
      ]
    }
  ]
}