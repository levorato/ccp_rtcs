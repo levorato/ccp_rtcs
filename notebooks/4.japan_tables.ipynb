{
 "cells": [
  {
   "cell_type": "markdown",
   "id": "9315b8eb-73d8-448e-ba9a-fca12c0806b1",
   "metadata": {},
   "source": [
    "### Japan microgrid - Generate result tables"
   ]
  },
  {
   "cell_type": "code",
   "execution_count": null,
   "id": "9c836360-e1ce-48ee-9027-24874e94c0b2",
   "metadata": {},
   "outputs": [],
   "source": [
    "import pandas as pd\n",
    "import numpy as np\n",
    "import os, fnmatch\n",
    "import matplotlib.pyplot as plt\n",
    "import matplotlib.dates as mdates\n",
    "import warnings\n",
    "warnings.filterwarnings('ignore')\n",
    "warnings.filterwarnings('ignore', category=DeprecationWarning)\n",
    "import glob\n",
    "import seaborn as sns\n",
    "import gzip\n",
    "import matplotlib.style as style\n",
    "from matplotlib.path import Path\n",
    "from matplotlib.patches import BoxStyle\n",
    "from sys import platform\n",
    "\n",
    "%matplotlib inline"
   ]
  },
  {
   "cell_type": "code",
   "execution_count": null,
   "id": "00cde851-4e05-4f93-bfc2-1c795046f780",
   "metadata": {},
   "outputs": [],
   "source": [
    "from rccp_utils import *"
   ]
  },
  {
   "cell_type": "code",
   "execution_count": null,
   "id": "47506917-0ad9-47b7-9dfd-b4e304f45324",
   "metadata": {},
   "outputs": [],
   "source": [
    "gdrive_folder = '..'\n",
    "print('gdrive_folder=', gdrive_folder)"
   ]
  },
  {
   "cell_type": "code",
   "execution_count": null,
   "id": "4f81dd38-d53a-4dce-93ca-82100d946321",
   "metadata": {},
   "outputs": [],
   "source": [
    "project_folder = '../doutorado/robusto/RCCP'\n",
    "antoine_instances_folder = os.path.join(project_folder, \"instances\", \"utc_skew\")\n",
    "toy_instances_folder = os.path.join(project_folder, \"instances\", \"toy\")\n",
    "instances_folder = os.path.join(project_folder, \"instances\")\n",
    "japan_instances_folder = os.path.join(project_folder, \"instances\", \"japan_microgrid\")\n",
    "output_folder = os.path.join(gdrive_folder, \"rccp_experiments\")\n",
    "results_folder = os.path.join(gdrive_folder, \"rccp_results\")\n",
    "cost_results_folder = os.path.join(output_folder, 'consolidated_results', 'df')\n",
    "var_results_folder = os.path.join(output_folder, 'consolidated_results', 'df')\n",
    "print(\"*** Project folder is\", project_folder)\n",
    "print(\"*** Instances folder is\",  instances_folder)\n",
    "print(\"*** Output folder is\", output_folder)\n"
   ]
  },
  {
   "cell_type": "markdown",
   "id": "a85cce1f-aa65-4abf-a6d1-ddc0d0e11837",
   "metadata": {},
   "source": [
    "### 1.9. Create the output folders for processed results"
   ]
  },
  {
   "cell_type": "code",
   "execution_count": null,
   "id": "71e9d1b2-cc06-47a7-b649-6a9d24458635",
   "metadata": {},
   "outputs": [],
   "source": [
    "reportfolder = os.path.join(output_folder, 'consolidated_results')\n",
    "reportfolder_graph = os.path.join(reportfolder, 'graphs')\n",
    "reportfolder_table = os.path.join(reportfolder, 'tables')\n",
    "if not os.path.exists(reportfolder_graph):\n",
    "    os.makedirs(reportfolder_graph)\n",
    "if not os.path.exists(reportfolder_table):\n",
    "    os.makedirs(reportfolder_table)\n",
    "print('Saving files on folder: ' + reportfolder)"
   ]
  },
  {
   "cell_type": "markdown",
   "id": "6a12fe1d-e404-4c99-aa84-af92b589bc88",
   "metadata": {},
   "source": [
    "### Read processed results dataframe"
   ]
  },
  {
   "cell_type": "code",
   "execution_count": null,
   "id": "e237107d-d782-47d3-8c67-bb067f549e4b",
   "metadata": {},
   "outputs": [],
   "source": [
    "df_tables = pd.read_pickle(os.path.join(reportfolder, 'df_japan_table1.pkl.gz'))"
   ]
  },
  {
   "cell_type": "code",
   "execution_count": null,
   "id": "0d995b5e-fe53-49c0-853b-bd7a5e367d81",
   "metadata": {},
   "outputs": [],
   "source": [
    "df_tables.head(2)"
   ]
  },
  {
   "cell_type": "markdown",
   "id": "6b9a0ac3-72f8-4ec5-9319-c6f1e78e8cd5",
   "metadata": {},
   "source": [
    "### 1. Table with average solution time (hours)"
   ]
  },
  {
   "cell_type": "code",
   "execution_count": null,
   "id": "d611ddde-de64-49ab-95ac-f33aade8a84a",
   "metadata": {},
   "outputs": [],
   "source": [
    "df_time_list = []\n",
    "for csv_file in glob.glob(os.path.join(output_folder, 'run_sim_japan_forecast_avg', 'ccp_model*.csv')):\n",
    "    df_time_list.append(pd.read_csv(csv_file))\n",
    "    print('Read file', csv_file)\n",
    "df_time = pd.concat(df_time_list)\n",
    "df_time.info()"
   ]
  },
  {
   "cell_type": "code",
   "execution_count": null,
   "id": "ed565fee-f643-423a-bc96-6b3f72fe561b",
   "metadata": {},
   "outputs": [],
   "source": [
    "df_time['OriginalInstanceName'] = df_time['instance_name']\n",
    "df_time['instance_name'] = df_time['instance_name'].str.replace('instance_deltamin10_', '', regex=False).str.replace('.txt', '', regex=False)\n",
    "df_time['Γ'] = np.round(100 * df_time['model_parameters'].astype(str).replace('none', '0.0', regex=False).astype(float) / 48, 0).astype(int)  #.replace('none', '', regex=False)\n",
    "df_time['-'] = 'Γ=' + df_time['Γ'].astype(str) + '%'\n",
    "df_time['Instance'] = df_time['instance_name']\n",
    "df_time['Model'] = df_time['model']\n",
    "df_time['time_spent'] = np.round(df_time['time_spent'], 2)\n",
    "df_time.loc[(df_time['model'] == 'deterministic'), '-'] = ''\n",
    "df_time.head(10)"
   ]
  },
  {
   "cell_type": "code",
   "execution_count": null,
   "id": "8a80658a-fdf6-44bb-bf81-a777fc435bc0",
   "metadata": {},
   "outputs": [],
   "source": [
    "time_table = pd.pivot_table(df_time, values='time_spent', index=['Instance'],\n",
    "                    columns=['Model', '-'], aggfunc=np.sum).reindex([('deterministic', ''),('robust-budget', 'Γ=0%'), ('robust-budget', 'Γ=20%'),('robust-budget', 'Γ=40%'),\n",
    "                                                                    ('robust-budget', 'Γ=60%'), ('robust-budget', 'Γ=80%'), ('robust-budget', 'Γ=100%')], axis=1)\n",
    "time_table.to_html(os.path.join(reportfolder_table, 'japan-time-table.html'))\n",
    "time_table"
   ]
  },
  {
   "cell_type": "markdown",
   "id": "43277c9a-f636-4583-8019-04beb0e5dd46",
   "metadata": {},
   "source": [
    "### 2. Complete Table with all results for Japan Microgrid"
   ]
  },
  {
   "cell_type": "code",
   "execution_count": null,
   "id": "0ab62f40-c66b-4f76-8792-8ba2746d6a16",
   "metadata": {},
   "outputs": [],
   "source": [
    "df_complete = df_tables.copy()\n",
    "df_complete['Γ'] = df_complete['Gamma']\n",
    "df_complete['Γ'] = 'Γ=' + df_complete['Γ'].astype(str) + '%'\n",
    "df_complete.loc[(df_complete['Model'] == 'deterministic'), 'Γ'] = '-'\n",
    "df_complete = df_complete.set_index(['Instance', 'Model', 'Γ', 'RTCS Policy'])\n",
    "df_complete = df_complete[['Cost Avg', 'Cost Std', 'Cost CVaR', 'OC Cost Avg', 'Penalty Freq', 'Renewables Util Avg', 'SOC Avg']] \n",
    "df_complete.to_html(os.path.join(reportfolder_table, 'japan-complete-table.html'))\n",
    "df_complete"
   ]
  },
  {
   "cell_type": "markdown",
   "id": "fb055ea5-661d-4a82-86b4-416e8d705f8b",
   "metadata": {},
   "source": [
    "### 3. Summary Table with best results for Japan Microgrid"
   ]
  },
  {
   "cell_type": "code",
   "execution_count": null,
   "id": "c1055e8b-b49a-4d8d-ab74-385e8433ddc7",
   "metadata": {},
   "outputs": [],
   "source": [
    "# Get the best RTCS_Policy for each instance and deterministic model\n",
    "df_best = df_complete.reset_index()\n",
    "df_best_det_cvar = df_best[(df_best['Model'] == 'deterministic')].groupby(by=['Instance', 'Model', 'Γ']).min()[['Cost CVaR']]\n",
    "print('Best CVaR (smallest CVaR) for each instance, for deterministic model')\n",
    "display(df_best_det_cvar)\n",
    "df_best_det_policy = df_best[(df_best['Model'] == 'deterministic')].merge(df_best_det_cvar, on=['Instance', 'Model', 'Γ', 'Cost CVaR'])\n",
    "print('Best RTCS_Policy (with smallest CVaR) for each instance, for deterministic model')\n",
    "display(df_best_det_policy)\n",
    "df_best_det_policy = df_best_det_policy.iloc[[0, 3, 4, 5]]\n",
    "print('Best RTCS_Policy (with smallest CVaR) for each instance, for deterministic model => after tie break')\n",
    "display(df_best_det_policy)\n",
    "# Join the best deterministic RTCS_Policy with all remaining models\n",
    "df_summary = df_complete.reset_index().merge(df_best_det_policy, on=['Instance', 'RTCS Policy'], suffixes=('', '_y'))\n",
    "print('Deterministic vs. Robust Models')\n",
    "#display(df_summary)\n",
    "df_summary = df_summary[['Instance', 'Model', 'Γ', 'Cost Avg', 'Cost Std', 'Cost CVaR', 'OC Cost Avg', 'Penalty Freq', 'Renewables Util Avg', 'SOC Avg']]\n",
    "print('Results for all Instances')\n",
    "display(df_summary)\n",
    "for season in df_best['Instance'].unique():\n",
    "    print('Results for Instance=', season)\n",
    "    df_table_season = df_summary[(df_summary['Instance'] == season)]\n",
    "    df_table_season = df_table_season.set_index(['Instance', 'Model', 'Γ']).T\n",
    "    df_table_season = df_table_season.reindex([(season, 'deterministic', '-'),(season, 'robust-budget', 'Γ=0%'), (season, 'robust-budget', 'Γ=20%'),(season, 'robust-budget', 'Γ=40%'),\n",
    "                                                (season, 'robust-budget', 'Γ=60%'), (season, 'robust-budget', 'Γ=80%'), (season, 'robust-budget', 'Γ=100%')], axis=1)\n",
    "    display(df_table_season)\n",
    "    df_table_season.to_html(os.path.join(reportfolder_table, 'japan-summary-table-{}.html'.format(season)))"
   ]
  },
  {
   "cell_type": "code",
   "execution_count": null,
   "id": "ac50fe11-5ab0-4251-9ffc-9120bf6a770d",
   "metadata": {},
   "outputs": [],
   "source": []
  }
 ],
 "metadata": {
  "kernelspec": {
   "display_name": "Python 3 (ipykernel)",
   "language": "python",
   "name": "python3"
  },
  "language_info": {
   "codemirror_mode": {
    "name": "ipython",
    "version": 3
   },
   "file_extension": ".py",
   "mimetype": "text/x-python",
   "name": "python",
   "nbconvert_exporter": "python",
   "pygments_lexer": "ipython3",
   "version": "3.9.5"
  }
 },
 "nbformat": 4,
 "nbformat_minor": 5
}
